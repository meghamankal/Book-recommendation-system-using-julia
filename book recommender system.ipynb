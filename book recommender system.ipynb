{
 "cells": [
  {
   "cell_type": "code",
   "execution_count": 1,
   "metadata": {},
   "outputs": [
    {
     "name": "stderr",
     "output_type": "stream",
     "text": [
      "\u001b[32m\u001b[1m   Updating\u001b[22m\u001b[39m registry at `C:\\Users\\megha\\.julia\\registries\\General`\n",
      "\u001b[32m\u001b[1m  Resolving\u001b[22m\u001b[39m package versions...\n",
      "\u001b[32m\u001b[1mNo Changes\u001b[22m\u001b[39m to `C:\\Users\\megha\\.julia\\environments\\v1.5\\Project.toml`\n",
      "\u001b[32m\u001b[1mNo Changes\u001b[22m\u001b[39m to `C:\\Users\\megha\\.julia\\environments\\v1.5\\Manifest.toml`\n",
      "\u001b[32m\u001b[1m  Resolving\u001b[22m\u001b[39m package versions...\n",
      "\u001b[32m\u001b[1mNo Changes\u001b[22m\u001b[39m to `C:\\Users\\megha\\.julia\\environments\\v1.5\\Project.toml`\n",
      "\u001b[32m\u001b[1mNo Changes\u001b[22m\u001b[39m to `C:\\Users\\megha\\.julia\\environments\\v1.5\\Manifest.toml`\n"
     ]
    }
   ],
   "source": [
    "using Pkg\n",
    "Pkg.add(\"StatsBase\")\n",
    "Pkg.add(\"Recommendation\")\n"
   ]
  },
  {
   "cell_type": "code",
   "execution_count": 2,
   "metadata": {},
   "outputs": [
    {
     "data": {
      "text/html": [
       "<table class=\"data-frame\"><thead><tr><th></th><th>isbn13</th><th>isbn10</th><th>title</th><th>subtitle</th></tr><tr><th></th><th>Int64</th><th>String</th><th>String</th><th>String?</th></tr></thead><tbody><p>6,810 rows × 12 columns (omitted printing of 8 columns)</p><tr><th>1</th><td>9780002005883</td><td>0002005883</td><td>Gilead</td><td><em>missing</em></td></tr><tr><th>2</th><td>9780002261982</td><td>0002261987</td><td>Spider's Web</td><td>A Novel</td></tr><tr><th>3</th><td>9780006163831</td><td>0006163831</td><td>The One Tree</td><td><em>missing</em></td></tr><tr><th>4</th><td>9780006178736</td><td>0006178731</td><td>Rage of angels</td><td><em>missing</em></td></tr><tr><th>5</th><td>9780006280897</td><td>0006280897</td><td>The Four Loves</td><td><em>missing</em></td></tr><tr><th>6</th><td>9780006280934</td><td>0006280935</td><td>The Problem of Pain</td><td><em>missing</em></td></tr><tr><th>7</th><td>9780006353287</td><td>0006353282</td><td>An Autobiography</td><td><em>missing</em></td></tr><tr><th>8</th><td>9780006380832</td><td>0006380832</td><td>Empires of the Monsoon</td><td>A History of the Indian Ocean and Its Invaders</td></tr><tr><th>9</th><td>9780006470229</td><td>000647022X</td><td>The Gap Into Madness</td><td>Chaos and Order</td></tr><tr><th>10</th><td>9780006472612</td><td>0006472613</td><td>Master of the Game</td><td><em>missing</em></td></tr><tr><th>11</th><td>9780006479673</td><td>0006479677</td><td>If Tomorrow Comes</td><td><em>missing</em></td></tr><tr><th>12</th><td>9780006480099</td><td>0006480098</td><td>Assassin's Apprentice</td><td><em>missing</em></td></tr><tr><th>13</th><td>9780006482079</td><td>0006482074</td><td>Warhost of Vastmark</td><td><em>missing</em></td></tr><tr><th>14</th><td>9780006483014</td><td>0006483011</td><td>The Once and Future King</td><td><em>missing</em></td></tr><tr><th>15</th><td>9780006483892</td><td>0006483895</td><td>Murder in LaMut</td><td><em>missing</em></td></tr><tr><th>16</th><td>9780006483908</td><td>0006483909</td><td>Jimmy the Hand</td><td><em>missing</em></td></tr><tr><th>17</th><td>9780006486145</td><td>0006486142</td><td>Well of Darkness</td><td><em>missing</em></td></tr><tr><th>18</th><td>9780006490456</td><td>000649045X</td><td>Witness for the Prosecution &amp; Selected Plays</td><td><em>missing</em></td></tr><tr><th>19</th><td>9780006496434</td><td>0006496431</td><td>The Little House</td><td><em>missing</em></td></tr><tr><th>20</th><td>9780006496878</td><td>0006496873</td><td>Mystical Paths</td><td><em>missing</em></td></tr><tr><th>21</th><td>9780006496892</td><td>000649689X</td><td>Glittering Images</td><td><em>missing</em></td></tr><tr><th>22</th><td>9780006496922</td><td>000649692X</td><td>Glamorous Powers</td><td><em>missing</em></td></tr><tr><th>23</th><td>9780006498865</td><td>0006498868</td><td>The Mad Ship</td><td><em>missing</em></td></tr><tr><th>24</th><td>9780006499169</td><td>0006499163</td><td>Post Captain</td><td><em>missing</em></td></tr><tr><th>25</th><td>9780006499268</td><td>0006499260</td><td>The Reverse of the Medal</td><td><em>missing</em></td></tr><tr><th>26</th><td>9780006499626</td><td>0006499627</td><td>Miss Marple</td><td>The Complete Short Stories</td></tr><tr><th>27</th><td>9780006511489</td><td>0006511481</td><td>The Years of Rice and Salt</td><td><em>missing</em></td></tr><tr><th>28</th><td>9780006512677</td><td>0006512674</td><td>Spares</td><td><em>missing</em></td></tr><tr><th>29</th><td>9780006513087</td><td>0006513085</td><td>Gravity</td><td><em>missing</em></td></tr><tr><th>30</th><td>9780006514640</td><td>0006514642</td><td>The Wise Woman</td><td><em>missing</em></td></tr><tr><th>&vellip;</th><td>&vellip;</td><td>&vellip;</td><td>&vellip;</td><td>&vellip;</td></tr></tbody></table>"
      ],
      "text/latex": [
       "\\begin{tabular}{r|ccccc}\n",
       "\t& isbn13 & isbn10 & title & subtitle & \\\\\n",
       "\t\\hline\n",
       "\t& Int64 & String & String & String? & \\\\\n",
       "\t\\hline\n",
       "\t1 & 9780002005883 & 0002005883 & Gilead & \\emph{missing} & $\\dots$ \\\\\n",
       "\t2 & 9780002261982 & 0002261987 & Spider's Web & A Novel & $\\dots$ \\\\\n",
       "\t3 & 9780006163831 & 0006163831 & The One Tree & \\emph{missing} & $\\dots$ \\\\\n",
       "\t4 & 9780006178736 & 0006178731 & Rage of angels & \\emph{missing} & $\\dots$ \\\\\n",
       "\t5 & 9780006280897 & 0006280897 & The Four Loves & \\emph{missing} & $\\dots$ \\\\\n",
       "\t6 & 9780006280934 & 0006280935 & The Problem of Pain & \\emph{missing} & $\\dots$ \\\\\n",
       "\t7 & 9780006353287 & 0006353282 & An Autobiography & \\emph{missing} & $\\dots$ \\\\\n",
       "\t8 & 9780006380832 & 0006380832 & Empires of the Monsoon & A History of the Indian Ocean and Its Invaders & $\\dots$ \\\\\n",
       "\t9 & 9780006470229 & 000647022X & The Gap Into Madness & Chaos and Order & $\\dots$ \\\\\n",
       "\t10 & 9780006472612 & 0006472613 & Master of the Game & \\emph{missing} & $\\dots$ \\\\\n",
       "\t11 & 9780006479673 & 0006479677 & If Tomorrow Comes & \\emph{missing} & $\\dots$ \\\\\n",
       "\t12 & 9780006480099 & 0006480098 & Assassin's Apprentice & \\emph{missing} & $\\dots$ \\\\\n",
       "\t13 & 9780006482079 & 0006482074 & Warhost of Vastmark & \\emph{missing} & $\\dots$ \\\\\n",
       "\t14 & 9780006483014 & 0006483011 & The Once and Future King & \\emph{missing} & $\\dots$ \\\\\n",
       "\t15 & 9780006483892 & 0006483895 & Murder in LaMut & \\emph{missing} & $\\dots$ \\\\\n",
       "\t16 & 9780006483908 & 0006483909 & Jimmy the Hand & \\emph{missing} & $\\dots$ \\\\\n",
       "\t17 & 9780006486145 & 0006486142 & Well of Darkness & \\emph{missing} & $\\dots$ \\\\\n",
       "\t18 & 9780006490456 & 000649045X & Witness for the Prosecution \\& Selected Plays & \\emph{missing} & $\\dots$ \\\\\n",
       "\t19 & 9780006496434 & 0006496431 & The Little House & \\emph{missing} & $\\dots$ \\\\\n",
       "\t20 & 9780006496878 & 0006496873 & Mystical Paths & \\emph{missing} & $\\dots$ \\\\\n",
       "\t21 & 9780006496892 & 000649689X & Glittering Images & \\emph{missing} & $\\dots$ \\\\\n",
       "\t22 & 9780006496922 & 000649692X & Glamorous Powers & \\emph{missing} & $\\dots$ \\\\\n",
       "\t23 & 9780006498865 & 0006498868 & The Mad Ship & \\emph{missing} & $\\dots$ \\\\\n",
       "\t24 & 9780006499169 & 0006499163 & Post Captain & \\emph{missing} & $\\dots$ \\\\\n",
       "\t25 & 9780006499268 & 0006499260 & The Reverse of the Medal & \\emph{missing} & $\\dots$ \\\\\n",
       "\t26 & 9780006499626 & 0006499627 & Miss Marple & The Complete Short Stories & $\\dots$ \\\\\n",
       "\t27 & 9780006511489 & 0006511481 & The Years of Rice and Salt & \\emph{missing} & $\\dots$ \\\\\n",
       "\t28 & 9780006512677 & 0006512674 & Spares & \\emph{missing} & $\\dots$ \\\\\n",
       "\t29 & 9780006513087 & 0006513085 & Gravity & \\emph{missing} & $\\dots$ \\\\\n",
       "\t30 & 9780006514640 & 0006514642 & The Wise Woman & \\emph{missing} & $\\dots$ \\\\\n",
       "\t$\\dots$ & $\\dots$ & $\\dots$ & $\\dots$ & $\\dots$ &  \\\\\n",
       "\\end{tabular}\n"
      ],
      "text/plain": [
       "6810×12 DataFrame. Omitted printing of 10 columns\n",
       "│ Row  │ isbn13        │ isbn10     │\n",
       "│      │ \u001b[90mInt64\u001b[39m         │ \u001b[90mString\u001b[39m     │\n",
       "├──────┼───────────────┼────────────┤\n",
       "│ 1    │ 9780002005883 │ 0002005883 │\n",
       "│ 2    │ 9780002261982 │ 0002261987 │\n",
       "│ 3    │ 9780006163831 │ 0006163831 │\n",
       "│ 4    │ 9780006178736 │ 0006178731 │\n",
       "│ 5    │ 9780006280897 │ 0006280897 │\n",
       "│ 6    │ 9780006280934 │ 0006280935 │\n",
       "│ 7    │ 9780006353287 │ 0006353282 │\n",
       "│ 8    │ 9780006380832 │ 0006380832 │\n",
       "│ 9    │ 9780006470229 │ 000647022X │\n",
       "│ 10   │ 9780006472612 │ 0006472613 │\n",
       "⋮\n",
       "│ 6800 │ 9788122200850 │ 8122200850 │\n",
       "│ 6801 │ 9788125026600 │ 8125026606 │\n",
       "│ 6802 │ 9788171565641 │ 8171565646 │\n",
       "│ 6803 │ 9788172235222 │ 8172235224 │\n",
       "│ 6804 │ 9788173031014 │ 8173031010 │\n",
       "│ 6805 │ 9788179921623 │ 817992162X │\n",
       "│ 6806 │ 9788185300535 │ 8185300534 │\n",
       "│ 6807 │ 9788185944609 │ 8185944601 │\n",
       "│ 6808 │ 9788445074879 │ 8445074873 │\n",
       "│ 6809 │ 9789027712059 │ 9027712050 │\n",
       "│ 6810 │ 9789042003408 │ 9042003405 │"
      ]
     },
     "execution_count": 2,
     "metadata": {},
     "output_type": "execute_result"
    }
   ],
   "source": [
    "using DataFrames\n",
    "using CSV\n",
    "temp=CSV.read(\"books.csv\")"
   ]
  },
  {
   "cell_type": "code",
   "execution_count": 3,
   "metadata": {},
   "outputs": [
    {
     "data": {
      "text/html": [
       "<table class=\"data-frame\"><thead><tr><th></th><th>isbn13</th><th>isbn10</th><th>title</th><th>subtitle</th><th>authors</th></tr><tr><th></th><th>Int64</th><th>String</th><th>String</th><th>String?</th><th>String?</th></tr></thead><tbody><p>6 rows × 12 columns (omitted printing of 7 columns)</p><tr><th>1</th><td>9780002005883</td><td>0002005883</td><td>Gilead</td><td><em>missing</em></td><td>Marilynne Robinson</td></tr><tr><th>2</th><td>9780002261982</td><td>0002261987</td><td>Spider's Web</td><td>A Novel</td><td>Charles Osborne;Agatha Christie</td></tr><tr><th>3</th><td>9780006163831</td><td>0006163831</td><td>The One Tree</td><td><em>missing</em></td><td>Stephen R. Donaldson</td></tr><tr><th>4</th><td>9780006178736</td><td>0006178731</td><td>Rage of angels</td><td><em>missing</em></td><td>Sidney Sheldon</td></tr><tr><th>5</th><td>9780006280897</td><td>0006280897</td><td>The Four Loves</td><td><em>missing</em></td><td>Clive Staples Lewis</td></tr><tr><th>6</th><td>9780006280934</td><td>0006280935</td><td>The Problem of Pain</td><td><em>missing</em></td><td>Clive Staples Lewis</td></tr></tbody></table>"
      ],
      "text/latex": [
       "\\begin{tabular}{r|cccccc}\n",
       "\t& isbn13 & isbn10 & title & subtitle & authors & \\\\\n",
       "\t\\hline\n",
       "\t& Int64 & String & String & String? & String? & \\\\\n",
       "\t\\hline\n",
       "\t1 & 9780002005883 & 0002005883 & Gilead & \\emph{missing} & Marilynne Robinson & $\\dots$ \\\\\n",
       "\t2 & 9780002261982 & 0002261987 & Spider's Web & A Novel & Charles Osborne;Agatha Christie & $\\dots$ \\\\\n",
       "\t3 & 9780006163831 & 0006163831 & The One Tree & \\emph{missing} & Stephen R. Donaldson & $\\dots$ \\\\\n",
       "\t4 & 9780006178736 & 0006178731 & Rage of angels & \\emph{missing} & Sidney Sheldon & $\\dots$ \\\\\n",
       "\t5 & 9780006280897 & 0006280897 & The Four Loves & \\emph{missing} & Clive Staples Lewis & $\\dots$ \\\\\n",
       "\t6 & 9780006280934 & 0006280935 & The Problem of Pain & \\emph{missing} & Clive Staples Lewis & $\\dots$ \\\\\n",
       "\\end{tabular}\n"
      ],
      "text/plain": [
       "6×12 DataFrame. Omitted printing of 8 columns\n",
       "│ Row │ isbn13        │ isbn10     │ title               │ subtitle │\n",
       "│     │ \u001b[90mInt64\u001b[39m         │ \u001b[90mString\u001b[39m     │ \u001b[90mString\u001b[39m              │ \u001b[90mString?\u001b[39m  │\n",
       "├─────┼───────────────┼────────────┼─────────────────────┼──────────┤\n",
       "│ 1   │ 9780002005883 │ 0002005883 │ Gilead              │ \u001b[90mmissing\u001b[39m  │\n",
       "│ 2   │ 9780002261982 │ 0002261987 │ Spider's Web        │ A Novel  │\n",
       "│ 3   │ 9780006163831 │ 0006163831 │ The One Tree        │ \u001b[90mmissing\u001b[39m  │\n",
       "│ 4   │ 9780006178736 │ 0006178731 │ Rage of angels      │ \u001b[90mmissing\u001b[39m  │\n",
       "│ 5   │ 9780006280897 │ 0006280897 │ The Four Loves      │ \u001b[90mmissing\u001b[39m  │\n",
       "│ 6   │ 9780006280934 │ 0006280935 │ The Problem of Pain │ \u001b[90mmissing\u001b[39m  │"
      ]
     },
     "execution_count": 3,
     "metadata": {},
     "output_type": "execute_result"
    }
   ],
   "source": [
    "DataFrames.head(temp)"
   ]
  },
  {
   "cell_type": "code",
   "execution_count": 4,
   "metadata": {},
   "outputs": [
    {
     "data": {
      "text/plain": [
       "6810"
      ]
     },
     "execution_count": 4,
     "metadata": {},
     "output_type": "execute_result"
    }
   ],
   "source": [
    "nrow(temp) #number of rows"
   ]
  },
  {
   "cell_type": "code",
   "execution_count": 5,
   "metadata": {},
   "outputs": [
    {
     "data": {
      "text/plain": [
       "12"
      ]
     },
     "execution_count": 5,
     "metadata": {},
     "output_type": "execute_result"
    }
   ],
   "source": [
    "ncol(temp) #number of columns"
   ]
  },
  {
   "cell_type": "code",
   "execution_count": 6,
   "metadata": {},
   "outputs": [
    {
     "data": {
      "text/plain": [
       "12-element Array{String,1}:\n",
       " \"isbn13\"\n",
       " \"isbn10\"\n",
       " \"title\"\n",
       " \"subtitle\"\n",
       " \"authors\"\n",
       " \"categories\"\n",
       " \"thumbnail\"\n",
       " \"description\"\n",
       " \"published_year\"\n",
       " \"average_rating\"\n",
       " \"num_pages\"\n",
       " \"ratings_count\""
      ]
     },
     "execution_count": 6,
     "metadata": {},
     "output_type": "execute_result"
    }
   ],
   "source": [
    "names(temp) #column names"
   ]
  },
  {
   "cell_type": "code",
   "execution_count": 7,
   "metadata": {},
   "outputs": [
    {
     "data": {
      "text/html": [
       "<table class=\"data-frame\"><thead><tr><th></th><th>isbn13</th><th>isbn10</th><th>title</th><th>authors</th></tr><tr><th></th><th>Int64</th><th>String</th><th>String</th><th>String?</th></tr></thead><tbody><p>6,810 rows × 11 columns (omitted printing of 7 columns)</p><tr><th>1</th><td>9780002005883</td><td>0002005883</td><td>Gilead</td><td>Marilynne Robinson</td></tr><tr><th>2</th><td>9780002261982</td><td>0002261987</td><td>Spider's Web</td><td>Charles Osborne;Agatha Christie</td></tr><tr><th>3</th><td>9780006163831</td><td>0006163831</td><td>The One Tree</td><td>Stephen R. Donaldson</td></tr><tr><th>4</th><td>9780006178736</td><td>0006178731</td><td>Rage of angels</td><td>Sidney Sheldon</td></tr><tr><th>5</th><td>9780006280897</td><td>0006280897</td><td>The Four Loves</td><td>Clive Staples Lewis</td></tr><tr><th>6</th><td>9780006280934</td><td>0006280935</td><td>The Problem of Pain</td><td>Clive Staples Lewis</td></tr><tr><th>7</th><td>9780006353287</td><td>0006353282</td><td>An Autobiography</td><td>Agatha Christie</td></tr><tr><th>8</th><td>9780006380832</td><td>0006380832</td><td>Empires of the Monsoon</td><td>Richard Hall</td></tr><tr><th>9</th><td>9780006470229</td><td>000647022X</td><td>The Gap Into Madness</td><td>Stephen R. Donaldson</td></tr><tr><th>10</th><td>9780006472612</td><td>0006472613</td><td>Master of the Game</td><td>Sidney Sheldon</td></tr><tr><th>11</th><td>9780006479673</td><td>0006479677</td><td>If Tomorrow Comes</td><td>Sidney Sheldon</td></tr><tr><th>12</th><td>9780006480099</td><td>0006480098</td><td>Assassin's Apprentice</td><td>Robin Hobb</td></tr><tr><th>13</th><td>9780006482079</td><td>0006482074</td><td>Warhost of Vastmark</td><td>Janny Wurts</td></tr><tr><th>14</th><td>9780006483014</td><td>0006483011</td><td>The Once and Future King</td><td>Terence Hanbury White</td></tr><tr><th>15</th><td>9780006483892</td><td>0006483895</td><td>Murder in LaMut</td><td>Raymond E. Feist;Joel Rosenberg</td></tr><tr><th>16</th><td>9780006483908</td><td>0006483909</td><td>Jimmy the Hand</td><td>Raymond E. Feist;S. M. Stirling</td></tr><tr><th>17</th><td>9780006486145</td><td>0006486142</td><td>Well of Darkness</td><td>Margaret Weis;Tracy Hickman</td></tr><tr><th>18</th><td>9780006490456</td><td>000649045X</td><td>Witness for the Prosecution &amp; Selected Plays</td><td>Agatha Christie</td></tr><tr><th>19</th><td>9780006496434</td><td>0006496431</td><td>The Little House</td><td>Philippa Gregory</td></tr><tr><th>20</th><td>9780006496878</td><td>0006496873</td><td>Mystical Paths</td><td>Susan Howatch</td></tr><tr><th>21</th><td>9780006496892</td><td>000649689X</td><td>Glittering Images</td><td>Susan Howatch</td></tr><tr><th>22</th><td>9780006496922</td><td>000649692X</td><td>Glamorous Powers</td><td>Susan Howatch</td></tr><tr><th>23</th><td>9780006498865</td><td>0006498868</td><td>The Mad Ship</td><td>Robin Hobb</td></tr><tr><th>24</th><td>9780006499169</td><td>0006499163</td><td>Post Captain</td><td>Patrick O'Brian</td></tr><tr><th>25</th><td>9780006499268</td><td>0006499260</td><td>The Reverse of the Medal</td><td>Patrick O'Brian</td></tr><tr><th>26</th><td>9780006499626</td><td>0006499627</td><td>Miss Marple</td><td>Agatha Christie</td></tr><tr><th>27</th><td>9780006511489</td><td>0006511481</td><td>The Years of Rice and Salt</td><td>Kim Stanley Robinson</td></tr><tr><th>28</th><td>9780006512677</td><td>0006512674</td><td>Spares</td><td>Michael Marshall Smith</td></tr><tr><th>29</th><td>9780006513087</td><td>0006513085</td><td>Gravity</td><td>Tess Gerritsen</td></tr><tr><th>30</th><td>9780006514640</td><td>0006514642</td><td>The Wise Woman</td><td>Philippa Gregory</td></tr><tr><th>&vellip;</th><td>&vellip;</td><td>&vellip;</td><td>&vellip;</td><td>&vellip;</td></tr></tbody></table>"
      ],
      "text/latex": [
       "\\begin{tabular}{r|ccccc}\n",
       "\t& isbn13 & isbn10 & title & authors & \\\\\n",
       "\t\\hline\n",
       "\t& Int64 & String & String & String? & \\\\\n",
       "\t\\hline\n",
       "\t1 & 9780002005883 & 0002005883 & Gilead & Marilynne Robinson & $\\dots$ \\\\\n",
       "\t2 & 9780002261982 & 0002261987 & Spider's Web & Charles Osborne;Agatha Christie & $\\dots$ \\\\\n",
       "\t3 & 9780006163831 & 0006163831 & The One Tree & Stephen R. Donaldson & $\\dots$ \\\\\n",
       "\t4 & 9780006178736 & 0006178731 & Rage of angels & Sidney Sheldon & $\\dots$ \\\\\n",
       "\t5 & 9780006280897 & 0006280897 & The Four Loves & Clive Staples Lewis & $\\dots$ \\\\\n",
       "\t6 & 9780006280934 & 0006280935 & The Problem of Pain & Clive Staples Lewis & $\\dots$ \\\\\n",
       "\t7 & 9780006353287 & 0006353282 & An Autobiography & Agatha Christie & $\\dots$ \\\\\n",
       "\t8 & 9780006380832 & 0006380832 & Empires of the Monsoon & Richard Hall & $\\dots$ \\\\\n",
       "\t9 & 9780006470229 & 000647022X & The Gap Into Madness & Stephen R. Donaldson & $\\dots$ \\\\\n",
       "\t10 & 9780006472612 & 0006472613 & Master of the Game & Sidney Sheldon & $\\dots$ \\\\\n",
       "\t11 & 9780006479673 & 0006479677 & If Tomorrow Comes & Sidney Sheldon & $\\dots$ \\\\\n",
       "\t12 & 9780006480099 & 0006480098 & Assassin's Apprentice & Robin Hobb & $\\dots$ \\\\\n",
       "\t13 & 9780006482079 & 0006482074 & Warhost of Vastmark & Janny Wurts & $\\dots$ \\\\\n",
       "\t14 & 9780006483014 & 0006483011 & The Once and Future King & Terence Hanbury White & $\\dots$ \\\\\n",
       "\t15 & 9780006483892 & 0006483895 & Murder in LaMut & Raymond E. Feist;Joel Rosenberg & $\\dots$ \\\\\n",
       "\t16 & 9780006483908 & 0006483909 & Jimmy the Hand & Raymond E. Feist;S. M. Stirling & $\\dots$ \\\\\n",
       "\t17 & 9780006486145 & 0006486142 & Well of Darkness & Margaret Weis;Tracy Hickman & $\\dots$ \\\\\n",
       "\t18 & 9780006490456 & 000649045X & Witness for the Prosecution \\& Selected Plays & Agatha Christie & $\\dots$ \\\\\n",
       "\t19 & 9780006496434 & 0006496431 & The Little House & Philippa Gregory & $\\dots$ \\\\\n",
       "\t20 & 9780006496878 & 0006496873 & Mystical Paths & Susan Howatch & $\\dots$ \\\\\n",
       "\t21 & 9780006496892 & 000649689X & Glittering Images & Susan Howatch & $\\dots$ \\\\\n",
       "\t22 & 9780006496922 & 000649692X & Glamorous Powers & Susan Howatch & $\\dots$ \\\\\n",
       "\t23 & 9780006498865 & 0006498868 & The Mad Ship & Robin Hobb & $\\dots$ \\\\\n",
       "\t24 & 9780006499169 & 0006499163 & Post Captain & Patrick O'Brian & $\\dots$ \\\\\n",
       "\t25 & 9780006499268 & 0006499260 & The Reverse of the Medal & Patrick O'Brian & $\\dots$ \\\\\n",
       "\t26 & 9780006499626 & 0006499627 & Miss Marple & Agatha Christie & $\\dots$ \\\\\n",
       "\t27 & 9780006511489 & 0006511481 & The Years of Rice and Salt & Kim Stanley Robinson & $\\dots$ \\\\\n",
       "\t28 & 9780006512677 & 0006512674 & Spares & Michael Marshall Smith & $\\dots$ \\\\\n",
       "\t29 & 9780006513087 & 0006513085 & Gravity & Tess Gerritsen & $\\dots$ \\\\\n",
       "\t30 & 9780006514640 & 0006514642 & The Wise Woman & Philippa Gregory & $\\dots$ \\\\\n",
       "\t$\\dots$ & $\\dots$ & $\\dots$ & $\\dots$ & $\\dots$ &  \\\\\n",
       "\\end{tabular}\n"
      ],
      "text/plain": [
       "6810×11 DataFrame. Omitted printing of 9 columns\n",
       "│ Row  │ isbn13        │ isbn10     │\n",
       "│      │ \u001b[90mInt64\u001b[39m         │ \u001b[90mString\u001b[39m     │\n",
       "├──────┼───────────────┼────────────┤\n",
       "│ 1    │ 9780002005883 │ 0002005883 │\n",
       "│ 2    │ 9780002261982 │ 0002261987 │\n",
       "│ 3    │ 9780006163831 │ 0006163831 │\n",
       "│ 4    │ 9780006178736 │ 0006178731 │\n",
       "│ 5    │ 9780006280897 │ 0006280897 │\n",
       "│ 6    │ 9780006280934 │ 0006280935 │\n",
       "│ 7    │ 9780006353287 │ 0006353282 │\n",
       "│ 8    │ 9780006380832 │ 0006380832 │\n",
       "│ 9    │ 9780006470229 │ 000647022X │\n",
       "│ 10   │ 9780006472612 │ 0006472613 │\n",
       "⋮\n",
       "│ 6800 │ 9788122200850 │ 8122200850 │\n",
       "│ 6801 │ 9788125026600 │ 8125026606 │\n",
       "│ 6802 │ 9788171565641 │ 8171565646 │\n",
       "│ 6803 │ 9788172235222 │ 8172235224 │\n",
       "│ 6804 │ 9788173031014 │ 8173031010 │\n",
       "│ 6805 │ 9788179921623 │ 817992162X │\n",
       "│ 6806 │ 9788185300535 │ 8185300534 │\n",
       "│ 6807 │ 9788185944609 │ 8185944601 │\n",
       "│ 6808 │ 9788445074879 │ 8445074873 │\n",
       "│ 6809 │ 9789027712059 │ 9027712050 │\n",
       "│ 6810 │ 9789042003408 │ 9042003405 │"
      ]
     },
     "execution_count": 7,
     "metadata": {},
     "output_type": "execute_result"
    }
   ],
   "source": [
    "books=select(temp, Not([:subtitle]))"
   ]
  },
  {
   "cell_type": "code",
   "execution_count": 8,
   "metadata": {},
   "outputs": [
    {
     "data": {
      "text/html": [
       "<table class=\"data-frame\"><thead><tr><th></th><th>variable</th><th>mean</th><th>min</th></tr><tr><th></th><th>Symbol</th><th>Union…</th><th>Any</th></tr></thead><tbody><p>11 rows × 8 columns (omitted printing of 5 columns)</p><tr><th>1</th><td>isbn13</td><td>9.78068e12</td><td>9780002005883</td></tr><tr><th>2</th><td>isbn10</td><td></td><td>0002005883</td></tr><tr><th>3</th><td>title</td><td></td><td>\"A\" is for Abductive</td></tr><tr><th>4</th><td>authors</td><td></td><td>A. Hatto</td></tr><tr><th>5</th><td>categories</td><td></td><td>87th Precinct (Imaginary place)</td></tr><tr><th>6</th><td>thumbnail</td><td></td><td>http://books.google.com/books/content?id=--_eXhJE0noC&amp;printsec=frontcover&amp;img=1&amp;zoom=1&amp;source=gbs_api</td></tr><tr><th>7</th><td>description</td><td></td><td>\" Michener is America's best writer, and he proves it once again in CENTENNIAL.\" THE PITTSBURGH PRESSA stunning panorama of the West, CENTENNIAL is an enthralling celebration of our country, brimming with the glory and the greatness of the American past that only bestselling author James Michener could bring to stunning life. From the Native Americans, the migrating white men and women, the cowboys, and the foreigners, it is a story of trappers, traders, homesteaders, gold seekers, ranchers, and hunters--all caught up in the dramatic events and violent conflicts that shaped the destiny of our legendary West.</td></tr><tr><th>8</th><td>published_year</td><td>1998.63</td><td>1853</td></tr><tr><th>9</th><td>average_rating</td><td>3.93328</td><td>0.0</td></tr><tr><th>10</th><td>num_pages</td><td>348.181</td><td>0</td></tr><tr><th>11</th><td>ratings_count</td><td>21069.1</td><td>0</td></tr></tbody></table>"
      ],
      "text/latex": [
       "\\begin{tabular}{r|cccc}\n",
       "\t& variable & mean & min & \\\\\n",
       "\t\\hline\n",
       "\t& Symbol & Union… & Any & \\\\\n",
       "\t\\hline\n",
       "\t1 & isbn13 & 9.78068e12 & 9780002005883 & $\\dots$ \\\\\n",
       "\t2 & isbn10 &  & 0002005883 & $\\dots$ \\\\\n",
       "\t3 & title &  & \"A\" is for Abductive & $\\dots$ \\\\\n",
       "\t4 & authors &  & A. Hatto & $\\dots$ \\\\\n",
       "\t5 & categories &  & 87th Precinct (Imaginary place) & $\\dots$ \\\\\n",
       "\t6 & thumbnail &  & http://books.google.com/books/content?id=--\\_eXhJE0noC\\&printsec=frontcover\\&img=1\\&zoom=1\\&source=gbs\\_api & $\\dots$ \\\\\n",
       "\t7 & description &  & \" Michener is America's best writer, and he proves it once again in CENTENNIAL.\" THE PITTSBURGH PRESSA stunning panorama of the West, CENTENNIAL is an enthralling celebration of our country, brimming with the glory and the greatness of the American past that only bestselling author James Michener could bring to stunning life. From the Native Americans, the migrating white men and women, the cowboys, and the foreigners, it is a story of trappers, traders, homesteaders, gold seekers, ranchers, and hunters--all caught up in the dramatic events and violent conflicts that shaped the destiny of our legendary West. & $\\dots$ \\\\\n",
       "\t8 & published\\_year & 1998.63 & 1853 & $\\dots$ \\\\\n",
       "\t9 & average\\_rating & 3.93328 & 0.0 & $\\dots$ \\\\\n",
       "\t10 & num\\_pages & 348.181 & 0 & $\\dots$ \\\\\n",
       "\t11 & ratings\\_count & 21069.1 & 0 & $\\dots$ \\\\\n",
       "\\end{tabular}\n"
      ],
      "text/plain": [
       "11×8 DataFrame. Omitted printing of 6 columns\n",
       "│ Row │ variable       │ mean       │\n",
       "│     │ \u001b[90mSymbol\u001b[39m         │ \u001b[90mUnion…\u001b[39m     │\n",
       "├─────┼────────────────┼────────────┤\n",
       "│ 1   │ isbn13         │ 9.78068e12 │\n",
       "│ 2   │ isbn10         │            │\n",
       "│ 3   │ title          │            │\n",
       "│ 4   │ authors        │            │\n",
       "│ 5   │ categories     │            │\n",
       "│ 6   │ thumbnail      │            │\n",
       "│ 7   │ description    │            │\n",
       "│ 8   │ published_year │ 1998.63    │\n",
       "│ 9   │ average_rating │ 3.93328    │\n",
       "│ 10  │ num_pages      │ 348.181    │\n",
       "│ 11  │ ratings_count  │ 21069.1    │"
      ]
     },
     "execution_count": 8,
     "metadata": {},
     "output_type": "execute_result"
    }
   ],
   "source": [
    "using Statistics\n",
    "describe(books)"
   ]
  },
  {
   "cell_type": "code",
   "execution_count": 9,
   "metadata": {},
   "outputs": [
    {
     "data": {
      "text/plain": [
       "missing"
      ]
     },
     "execution_count": 9,
     "metadata": {},
     "output_type": "execute_result"
    }
   ],
   "source": [
    "using Statistics\n",
    "mean(books[:average_rating])"
   ]
  },
  {
   "cell_type": "code",
   "execution_count": 10,
   "metadata": {},
   "outputs": [
    {
     "data": {
      "text/plain": [
       "6810-element Array{Union{Missing, Float64},1}:\n",
       " 3.85\n",
       " 3.83\n",
       " 3.97\n",
       " 3.93\n",
       " 4.15\n",
       " 4.09\n",
       " 4.27\n",
       " 4.41\n",
       " 4.15\n",
       " 4.11\n",
       " 4.04\n",
       " 4.15\n",
       " 4.03\n",
       " ⋮\n",
       " 0.0\n",
       " 3.22\n",
       " 3.26\n",
       " 3.83\n",
       " 2.93\n",
       " 3.7\n",
       " 3.82\n",
       " 4.51\n",
       " 4.08\n",
       " 3.98\n",
       " 0.0\n",
       " 3.7"
      ]
     },
     "execution_count": 10,
     "metadata": {},
     "output_type": "execute_result"
    }
   ],
   "source": [
    "\n",
    "for i in 1:nrow(books)\n",
    "    if ismissing(books[:average_rating][i])\n",
    "        books[:average_rating][i]=0.0\n",
    "    end\n",
    "end\n",
    "books[:average_rating]"
   ]
  },
  {
   "cell_type": "code",
   "execution_count": 11,
   "metadata": {},
   "outputs": [
    {
     "data": {
      "text/plain": [
       "3.9084478707782666"
      ]
     },
     "execution_count": 11,
     "metadata": {},
     "output_type": "execute_result"
    }
   ],
   "source": [
    "mean(books[:average_rating])"
   ]
  },
  {
   "cell_type": "code",
   "execution_count": 12,
   "metadata": {},
   "outputs": [
    {
     "data": {
      "text/plain": [
       "missing"
      ]
     },
     "execution_count": 12,
     "metadata": {},
     "output_type": "execute_result"
    }
   ],
   "source": [
    "mean(books[:ratings_count])"
   ]
  },
  {
   "cell_type": "code",
   "execution_count": 13,
   "metadata": {},
   "outputs": [
    {
     "data": {
      "text/plain": [
       "6810-element Array{Union{Missing, Int64},1}:\n",
       "    361\n",
       "   5164\n",
       "    172\n",
       "  29532\n",
       "  33684\n",
       "  37569\n",
       "   3975\n",
       "     65\n",
       "    103\n",
       "  43540\n",
       "  49170\n",
       " 133972\n",
       "   2966\n",
       "      ⋮\n",
       "      0\n",
       "    134\n",
       "     21\n",
       "     10\n",
       "      0\n",
       "     24\n",
       "   1568\n",
       "    104\n",
       "    324\n",
       "   5733\n",
       "      0\n",
       "     10"
      ]
     },
     "execution_count": 13,
     "metadata": {},
     "output_type": "execute_result"
    }
   ],
   "source": [
    "\n",
    "for i in 1:nrow(books)\n",
    "    if ismissing(books[:ratings_count][i])\n",
    "        books[:ratings_count][i]=0.0\n",
    "    end\n",
    "end\n",
    "books[:ratings_count]"
   ]
  },
  {
   "cell_type": "code",
   "execution_count": 14,
   "metadata": {},
   "outputs": [
    {
     "data": {
      "text/plain": [
       "20936.064464023493"
      ]
     },
     "execution_count": 14,
     "metadata": {},
     "output_type": "execute_result"
    }
   ],
   "source": [
    "mean(books[:ratings_count])"
   ]
  },
  {
   "cell_type": "code",
   "execution_count": 15,
   "metadata": {},
   "outputs": [
    {
     "data": {
      "text/plain": [
       "Dict{String,Int64} with 567 entries:\n",
       "  \"Christmas stories\"                                  => 2\n",
       "  \"Apartheid\"                                          => 1\n",
       "  \"Short stories, American\"                            => 2\n",
       "  \"Bible\"                                              => 5\n",
       "  \"Alzheimer's disease\"                                => 1\n",
       "  \"People with social disabilities\"                    => 1\n",
       "  \"Blacks\"                                             => 1\n",
       "  \"Animals, Treatment of\"                              => 1\n",
       "  \"Study Aids\"                                         => 5\n",
       "  \"Canterbury (England)\"                               => 1\n",
       "  \"Poirot, Hercule (Fictitious character)\"             => 1\n",
       "  \"Democracy\"                                          => 1\n",
       "  \"Vice-Presidents\"                                    => 1\n",
       "  \"Humorous stories, American\"                         => 1\n",
       "  \"Antiques & Collectibles\"                            => 3\n",
       "  \"Comic books, strips, etc\"                           => 4\n",
       "  \"British\"                                            => 5\n",
       "  \"Estados Unidos - Relaciones exteriores - 1945-1989\" => 1\n",
       "  \"Heroes\"                                             => 2\n",
       "  \"Ghost stories\"                                      => 1\n",
       "  \"Tobruk, Battles of, 1941-1942\"                      => 1\n",
       "  \"Literary Collections\"                               => 71\n",
       "  \"Dragons\"                                            => 1\n",
       "  \"Literary Criticism\"                                 => 166\n",
       "  \"Authors, Canadian\"                                  => 1\n",
       "  ⋮                                                    => ⋮"
      ]
     },
     "execution_count": 15,
     "metadata": {},
     "output_type": "execute_result"
    }
   ],
   "source": [
    "using StatsBase\n",
    "category=countmap(skipmissing(books[:categories]))"
   ]
  },
  {
   "cell_type": "code",
   "execution_count": 16,
   "metadata": {},
   "outputs": [
    {
     "data": {
      "text/plain": [
       "567-element Array{Int64,1}:\n",
       "    1\n",
       "    1\n",
       "    1\n",
       "    1\n",
       "    1\n",
       "    1\n",
       "    1\n",
       "    1\n",
       "    1\n",
       "    1\n",
       "    1\n",
       "    1\n",
       "    1\n",
       "    ⋮\n",
       "   71\n",
       "   79\n",
       "  116\n",
       "  132\n",
       "  137\n",
       "  159\n",
       "  160\n",
       "  166\n",
       "  264\n",
       "  401\n",
       "  538\n",
       " 2588"
      ]
     },
     "execution_count": 16,
     "metadata": {},
     "output_type": "execute_result"
    }
   ],
   "source": [
    "category_sorted=sort!(collect(values(category)))"
   ]
  },
  {
   "cell_type": "code",
   "execution_count": 17,
   "metadata": {
    "scrolled": false
   },
   "outputs": [
    {
     "data": {
      "text/plain": [
       "10-element Array{Int64,1}:\n",
       "  116\n",
       "  132\n",
       "  137\n",
       "  159\n",
       "  160\n",
       "  166\n",
       "  264\n",
       "  401\n",
       "  538\n",
       " 2588"
      ]
     },
     "execution_count": 17,
     "metadata": {},
     "output_type": "execute_result"
    }
   ],
   "source": [
    "final_values=category_sorted[558:567]"
   ]
  },
  {
   "cell_type": "code",
   "execution_count": 18,
   "metadata": {},
   "outputs": [
    {
     "data": {
      "text/plain": [
       "10-element Array{Any,1}:\n",
       " \"Juvenile Nonfiction\"\n",
       " \"Drama\"\n",
       " \"Religion\"\n",
       " \"Comics & Graphic Novels\"\n",
       " \"Philosophy\"\n",
       " \"Literary Criticism\"\n",
       " \"History\"\n",
       " \"Biography & Autobiography\"\n",
       " \"Juvenile Fiction\"\n",
       " \"Fiction\""
      ]
     },
     "execution_count": 18,
     "metadata": {},
     "output_type": "execute_result"
    }
   ],
   "source": [
    "final_keys=[]\n",
    "for i in final_values\n",
    "    for (key,value) in category\n",
    "        if value==i\n",
    "            push!(final_keys,key)\n",
    "            break\n",
    "        end\n",
    "    end\n",
    "end\n",
    "final_keys"
   ]
  },
  {
   "cell_type": "code",
   "execution_count": 19,
   "metadata": {},
   "outputs": [
    {
     "data": {
      "text/plain": [
       "10-element Array{Int64,1}:\n",
       " 2588\n",
       "  538\n",
       "  401\n",
       "  264\n",
       "  166\n",
       "  160\n",
       "  159\n",
       "  137\n",
       "  132\n",
       "  116"
      ]
     },
     "execution_count": 19,
     "metadata": {},
     "output_type": "execute_result"
    }
   ],
   "source": [
    "final_category_values=reverse(final_values)"
   ]
  },
  {
   "cell_type": "code",
   "execution_count": 20,
   "metadata": {},
   "outputs": [
    {
     "data": {
      "text/plain": [
       "10-element Array{Any,1}:\n",
       " \"Fiction\"\n",
       " \"Juvenile Fiction\"\n",
       " \"Biography & Autobiography\"\n",
       " \"History\"\n",
       " \"Literary Criticism\"\n",
       " \"Philosophy\"\n",
       " \"Comics & Graphic Novels\"\n",
       " \"Religion\"\n",
       " \"Drama\"\n",
       " \"Juvenile Nonfiction\""
      ]
     },
     "execution_count": 20,
     "metadata": {},
     "output_type": "execute_result"
    }
   ],
   "source": [
    "final_category_keys=reverse(final_keys)"
   ]
  },
  {
   "cell_type": "code",
   "execution_count": 21,
   "metadata": {},
   "outputs": [
    {
     "data": {
      "image/png": "[encoded data removed]"
     },
     "execution_count": 21,
     "metadata": {},
     "output_type": "execute_result"
    }
   ],
   "source": [
    "using PyPlot\n",
    "using StatsPlots\n",
    "pyplot()\n",
    "StatsPlots.bar(final_category_keys,final_category_values,xlabel=\"category\",xrotation=90,ylabel=\"count\",labels=\"categories\",color=\"#EB9CB0\")"
   ]
  },
  {
   "cell_type": "code",
   "execution_count": 22,
   "metadata": {},
   "outputs": [
    {
     "data": {
      "text/html": [
       "<table class=\"data-frame\"><thead><tr><th></th><th>isbn13</th><th>isbn10</th><th>cat_id</th><th>title</th></tr><tr><th></th><th>Int64</th><th>String</th><th>Any</th><th>String</th></tr></thead><tbody><p>6,810 rows × 12 columns (omitted printing of 8 columns)</p><tr><th>1</th><td>9780002005883</td><td>0002005883</td><td>0</td><td>Gilead</td></tr><tr><th>2</th><td>9780002261982</td><td>0002261987</td><td>0</td><td>Spider's Web</td></tr><tr><th>3</th><td>9780006163831</td><td>0006163831</td><td>0</td><td>The One Tree</td></tr><tr><th>4</th><td>9780006178736</td><td>0006178731</td><td>0</td><td>Rage of angels</td></tr><tr><th>5</th><td>9780006280897</td><td>0006280897</td><td>0</td><td>The Four Loves</td></tr><tr><th>6</th><td>9780006280934</td><td>0006280935</td><td>0</td><td>The Problem of Pain</td></tr><tr><th>7</th><td>9780006353287</td><td>0006353282</td><td>0</td><td>An Autobiography</td></tr><tr><th>8</th><td>9780006380832</td><td>0006380832</td><td>0</td><td>Empires of the Monsoon</td></tr><tr><th>9</th><td>9780006470229</td><td>000647022X</td><td>0</td><td>The Gap Into Madness</td></tr><tr><th>10</th><td>9780006472612</td><td>0006472613</td><td>0</td><td>Master of the Game</td></tr><tr><th>11</th><td>9780006479673</td><td>0006479677</td><td>0</td><td>If Tomorrow Comes</td></tr><tr><th>12</th><td>9780006480099</td><td>0006480098</td><td>0</td><td>Assassin's Apprentice</td></tr><tr><th>13</th><td>9780006482079</td><td>0006482074</td><td>0</td><td>Warhost of Vastmark</td></tr><tr><th>14</th><td>9780006483014</td><td>0006483011</td><td>0</td><td>The Once and Future King</td></tr><tr><th>15</th><td>9780006483892</td><td>0006483895</td><td>0</td><td>Murder in LaMut</td></tr><tr><th>16</th><td>9780006483908</td><td>0006483909</td><td>0</td><td>Jimmy the Hand</td></tr><tr><th>17</th><td>9780006486145</td><td>0006486142</td><td>0</td><td>Well of Darkness</td></tr><tr><th>18</th><td>9780006490456</td><td>000649045X</td><td>0</td><td>Witness for the Prosecution &amp; Selected Plays</td></tr><tr><th>19</th><td>9780006496434</td><td>0006496431</td><td>0</td><td>The Little House</td></tr><tr><th>20</th><td>9780006496878</td><td>0006496873</td><td>0</td><td>Mystical Paths</td></tr><tr><th>21</th><td>9780006496892</td><td>000649689X</td><td>0</td><td>Glittering Images</td></tr><tr><th>22</th><td>9780006496922</td><td>000649692X</td><td>0</td><td>Glamorous Powers</td></tr><tr><th>23</th><td>9780006498865</td><td>0006498868</td><td>0</td><td>The Mad Ship</td></tr><tr><th>24</th><td>9780006499169</td><td>0006499163</td><td>0</td><td>Post Captain</td></tr><tr><th>25</th><td>9780006499268</td><td>0006499260</td><td>0</td><td>The Reverse of the Medal</td></tr><tr><th>26</th><td>9780006499626</td><td>0006499627</td><td>0</td><td>Miss Marple</td></tr><tr><th>27</th><td>9780006511489</td><td>0006511481</td><td>0</td><td>The Years of Rice and Salt</td></tr><tr><th>28</th><td>9780006512677</td><td>0006512674</td><td>0</td><td>Spares</td></tr><tr><th>29</th><td>9780006513087</td><td>0006513085</td><td>0</td><td>Gravity</td></tr><tr><th>30</th><td>9780006514640</td><td>0006514642</td><td>0</td><td>The Wise Woman</td></tr><tr><th>&vellip;</th><td>&vellip;</td><td>&vellip;</td><td>&vellip;</td><td>&vellip;</td></tr></tbody></table>"
      ],
      "text/latex": [
       "\\begin{tabular}{r|ccccc}\n",
       "\t& isbn13 & isbn10 & cat\\_id & title & \\\\\n",
       "\t\\hline\n",
       "\t& Int64 & String & Any & String & \\\\\n",
       "\t\\hline\n",
       "\t1 & 9780002005883 & 0002005883 & 0 & Gilead & $\\dots$ \\\\\n",
       "\t2 & 9780002261982 & 0002261987 & 0 & Spider's Web & $\\dots$ \\\\\n",
       "\t3 & 9780006163831 & 0006163831 & 0 & The One Tree & $\\dots$ \\\\\n",
       "\t4 & 9780006178736 & 0006178731 & 0 & Rage of angels & $\\dots$ \\\\\n",
       "\t5 & 9780006280897 & 0006280897 & 0 & The Four Loves & $\\dots$ \\\\\n",
       "\t6 & 9780006280934 & 0006280935 & 0 & The Problem of Pain & $\\dots$ \\\\\n",
       "\t7 & 9780006353287 & 0006353282 & 0 & An Autobiography & $\\dots$ \\\\\n",
       "\t8 & 9780006380832 & 0006380832 & 0 & Empires of the Monsoon & $\\dots$ \\\\\n",
       "\t9 & 9780006470229 & 000647022X & 0 & The Gap Into Madness & $\\dots$ \\\\\n",
       "\t10 & 9780006472612 & 0006472613 & 0 & Master of the Game & $\\dots$ \\\\\n",
       "\t11 & 9780006479673 & 0006479677 & 0 & If Tomorrow Comes & $\\dots$ \\\\\n",
       "\t12 & 9780006480099 & 0006480098 & 0 & Assassin's Apprentice & $\\dots$ \\\\\n",
       "\t13 & 9780006482079 & 0006482074 & 0 & Warhost of Vastmark & $\\dots$ \\\\\n",
       "\t14 & 9780006483014 & 0006483011 & 0 & The Once and Future King & $\\dots$ \\\\\n",
       "\t15 & 9780006483892 & 0006483895 & 0 & Murder in LaMut & $\\dots$ \\\\\n",
       "\t16 & 9780006483908 & 0006483909 & 0 & Jimmy the Hand & $\\dots$ \\\\\n",
       "\t17 & 9780006486145 & 0006486142 & 0 & Well of Darkness & $\\dots$ \\\\\n",
       "\t18 & 9780006490456 & 000649045X & 0 & Witness for the Prosecution \\& Selected Plays & $\\dots$ \\\\\n",
       "\t19 & 9780006496434 & 0006496431 & 0 & The Little House & $\\dots$ \\\\\n",
       "\t20 & 9780006496878 & 0006496873 & 0 & Mystical Paths & $\\dots$ \\\\\n",
       "\t21 & 9780006496892 & 000649689X & 0 & Glittering Images & $\\dots$ \\\\\n",
       "\t22 & 9780006496922 & 000649692X & 0 & Glamorous Powers & $\\dots$ \\\\\n",
       "\t23 & 9780006498865 & 0006498868 & 0 & The Mad Ship & $\\dots$ \\\\\n",
       "\t24 & 9780006499169 & 0006499163 & 0 & Post Captain & $\\dots$ \\\\\n",
       "\t25 & 9780006499268 & 0006499260 & 0 & The Reverse of the Medal & $\\dots$ \\\\\n",
       "\t26 & 9780006499626 & 0006499627 & 0 & Miss Marple & $\\dots$ \\\\\n",
       "\t27 & 9780006511489 & 0006511481 & 0 & The Years of Rice and Salt & $\\dots$ \\\\\n",
       "\t28 & 9780006512677 & 0006512674 & 0 & Spares & $\\dots$ \\\\\n",
       "\t29 & 9780006513087 & 0006513085 & 0 & Gravity & $\\dots$ \\\\\n",
       "\t30 & 9780006514640 & 0006514642 & 0 & The Wise Woman & $\\dots$ \\\\\n",
       "\t$\\dots$ & $\\dots$ & $\\dots$ & $\\dots$ & $\\dots$ &  \\\\\n",
       "\\end{tabular}\n"
      ],
      "text/plain": [
       "6810×12 DataFrame. Omitted printing of 9 columns\n",
       "│ Row  │ isbn13        │ isbn10     │ cat_id │\n",
       "│      │ \u001b[90mInt64\u001b[39m         │ \u001b[90mString\u001b[39m     │ \u001b[90mAny\u001b[39m    │\n",
       "├──────┼───────────────┼────────────┼────────┤\n",
       "│ 1    │ 9780002005883 │ 0002005883 │ 0      │\n",
       "│ 2    │ 9780002261982 │ 0002261987 │ 0      │\n",
       "│ 3    │ 9780006163831 │ 0006163831 │ 0      │\n",
       "│ 4    │ 9780006178736 │ 0006178731 │ 0      │\n",
       "│ 5    │ 9780006280897 │ 0006280897 │ 0      │\n",
       "│ 6    │ 9780006280934 │ 0006280935 │ 0      │\n",
       "│ 7    │ 9780006353287 │ 0006353282 │ 0      │\n",
       "│ 8    │ 9780006380832 │ 0006380832 │ 0      │\n",
       "│ 9    │ 9780006470229 │ 000647022X │ 0      │\n",
       "│ 10   │ 9780006472612 │ 0006472613 │ 0      │\n",
       "⋮\n",
       "│ 6800 │ 9788122200850 │ 8122200850 │ 0      │\n",
       "│ 6801 │ 9788125026600 │ 8125026606 │ 0      │\n",
       "│ 6802 │ 9788171565641 │ 8171565646 │ 0      │\n",
       "│ 6803 │ 9788172235222 │ 8172235224 │ 0      │\n",
       "│ 6804 │ 9788173031014 │ 8173031010 │ 0      │\n",
       "│ 6805 │ 9788179921623 │ 817992162X │ 0      │\n",
       "│ 6806 │ 9788185300535 │ 8185300534 │ 0      │\n",
       "│ 6807 │ 9788185944609 │ 8185944601 │ 0      │\n",
       "│ 6808 │ 9788445074879 │ 8445074873 │ 0      │\n",
       "│ 6809 │ 9789027712059 │ 9027712050 │ 0      │\n",
       "│ 6810 │ 9789042003408 │ 9042003405 │ 0      │"
      ]
     },
     "execution_count": 22,
     "metadata": {},
     "output_type": "execute_result"
    }
   ],
   "source": [
    "#inserting new column in data frame books\n",
    "cat_id_values=[]\n",
    "for i in 1:nrow(books)\n",
    "    push!(cat_id_values,0)\n",
    "end\n",
    "insert!(books, 3, cat_id_values , :cat_id)"
   ]
  },
  {
   "cell_type": "code",
   "execution_count": 23,
   "metadata": {},
   "outputs": [
    {
     "data": {
      "text/html": [
       "<table class=\"data-frame\"><thead><tr><th></th><th>isbn13</th><th>isbn10</th><th>cat_id</th><th>title</th></tr><tr><th></th><th>Int64</th><th>String</th><th>Int64</th><th>String</th></tr></thead><tbody><p>6,810 rows × 12 columns (omitted printing of 8 columns)</p><tr><th>1</th><td>9780002005883</td><td>0002005883</td><td>0</td><td>Gilead</td></tr><tr><th>2</th><td>9780002261982</td><td>0002261987</td><td>0</td><td>Spider's Web</td></tr><tr><th>3</th><td>9780006163831</td><td>0006163831</td><td>0</td><td>The One Tree</td></tr><tr><th>4</th><td>9780006178736</td><td>0006178731</td><td>0</td><td>Rage of angels</td></tr><tr><th>5</th><td>9780006280897</td><td>0006280897</td><td>0</td><td>The Four Loves</td></tr><tr><th>6</th><td>9780006280934</td><td>0006280935</td><td>0</td><td>The Problem of Pain</td></tr><tr><th>7</th><td>9780006353287</td><td>0006353282</td><td>0</td><td>An Autobiography</td></tr><tr><th>8</th><td>9780006380832</td><td>0006380832</td><td>0</td><td>Empires of the Monsoon</td></tr><tr><th>9</th><td>9780006470229</td><td>000647022X</td><td>0</td><td>The Gap Into Madness</td></tr><tr><th>10</th><td>9780006472612</td><td>0006472613</td><td>0</td><td>Master of the Game</td></tr><tr><th>11</th><td>9780006479673</td><td>0006479677</td><td>0</td><td>If Tomorrow Comes</td></tr><tr><th>12</th><td>9780006480099</td><td>0006480098</td><td>0</td><td>Assassin's Apprentice</td></tr><tr><th>13</th><td>9780006482079</td><td>0006482074</td><td>0</td><td>Warhost of Vastmark</td></tr><tr><th>14</th><td>9780006483014</td><td>0006483011</td><td>0</td><td>The Once and Future King</td></tr><tr><th>15</th><td>9780006483892</td><td>0006483895</td><td>0</td><td>Murder in LaMut</td></tr><tr><th>16</th><td>9780006483908</td><td>0006483909</td><td>0</td><td>Jimmy the Hand</td></tr><tr><th>17</th><td>9780006486145</td><td>0006486142</td><td>0</td><td>Well of Darkness</td></tr><tr><th>18</th><td>9780006490456</td><td>000649045X</td><td>0</td><td>Witness for the Prosecution &amp; Selected Plays</td></tr><tr><th>19</th><td>9780006496434</td><td>0006496431</td><td>0</td><td>The Little House</td></tr><tr><th>20</th><td>9780006496878</td><td>0006496873</td><td>0</td><td>Mystical Paths</td></tr><tr><th>21</th><td>9780006496892</td><td>000649689X</td><td>0</td><td>Glittering Images</td></tr><tr><th>22</th><td>9780006496922</td><td>000649692X</td><td>0</td><td>Glamorous Powers</td></tr><tr><th>23</th><td>9780006498865</td><td>0006498868</td><td>0</td><td>The Mad Ship</td></tr><tr><th>24</th><td>9780006499169</td><td>0006499163</td><td>0</td><td>Post Captain</td></tr><tr><th>25</th><td>9780006499268</td><td>0006499260</td><td>0</td><td>The Reverse of the Medal</td></tr><tr><th>26</th><td>9780006499626</td><td>0006499627</td><td>0</td><td>Miss Marple</td></tr><tr><th>27</th><td>9780006511489</td><td>0006511481</td><td>0</td><td>The Years of Rice and Salt</td></tr><tr><th>28</th><td>9780006512677</td><td>0006512674</td><td>0</td><td>Spares</td></tr><tr><th>29</th><td>9780006513087</td><td>0006513085</td><td>0</td><td>Gravity</td></tr><tr><th>30</th><td>9780006514640</td><td>0006514642</td><td>0</td><td>The Wise Woman</td></tr><tr><th>&vellip;</th><td>&vellip;</td><td>&vellip;</td><td>&vellip;</td><td>&vellip;</td></tr></tbody></table>"
      ],
      "text/latex": [
       "\\begin{tabular}{r|ccccc}\n",
       "\t& isbn13 & isbn10 & cat\\_id & title & \\\\\n",
       "\t\\hline\n",
       "\t& Int64 & String & Int64 & String & \\\\\n",
       "\t\\hline\n",
       "\t1 & 9780002005883 & 0002005883 & 0 & Gilead & $\\dots$ \\\\\n",
       "\t2 & 9780002261982 & 0002261987 & 0 & Spider's Web & $\\dots$ \\\\\n",
       "\t3 & 9780006163831 & 0006163831 & 0 & The One Tree & $\\dots$ \\\\\n",
       "\t4 & 9780006178736 & 0006178731 & 0 & Rage of angels & $\\dots$ \\\\\n",
       "\t5 & 9780006280897 & 0006280897 & 0 & The Four Loves & $\\dots$ \\\\\n",
       "\t6 & 9780006280934 & 0006280935 & 0 & The Problem of Pain & $\\dots$ \\\\\n",
       "\t7 & 9780006353287 & 0006353282 & 0 & An Autobiography & $\\dots$ \\\\\n",
       "\t8 & 9780006380832 & 0006380832 & 0 & Empires of the Monsoon & $\\dots$ \\\\\n",
       "\t9 & 9780006470229 & 000647022X & 0 & The Gap Into Madness & $\\dots$ \\\\\n",
       "\t10 & 9780006472612 & 0006472613 & 0 & Master of the Game & $\\dots$ \\\\\n",
       "\t11 & 9780006479673 & 0006479677 & 0 & If Tomorrow Comes & $\\dots$ \\\\\n",
       "\t12 & 9780006480099 & 0006480098 & 0 & Assassin's Apprentice & $\\dots$ \\\\\n",
       "\t13 & 9780006482079 & 0006482074 & 0 & Warhost of Vastmark & $\\dots$ \\\\\n",
       "\t14 & 9780006483014 & 0006483011 & 0 & The Once and Future King & $\\dots$ \\\\\n",
       "\t15 & 9780006483892 & 0006483895 & 0 & Murder in LaMut & $\\dots$ \\\\\n",
       "\t16 & 9780006483908 & 0006483909 & 0 & Jimmy the Hand & $\\dots$ \\\\\n",
       "\t17 & 9780006486145 & 0006486142 & 0 & Well of Darkness & $\\dots$ \\\\\n",
       "\t18 & 9780006490456 & 000649045X & 0 & Witness for the Prosecution \\& Selected Plays & $\\dots$ \\\\\n",
       "\t19 & 9780006496434 & 0006496431 & 0 & The Little House & $\\dots$ \\\\\n",
       "\t20 & 9780006496878 & 0006496873 & 0 & Mystical Paths & $\\dots$ \\\\\n",
       "\t21 & 9780006496892 & 000649689X & 0 & Glittering Images & $\\dots$ \\\\\n",
       "\t22 & 9780006496922 & 000649692X & 0 & Glamorous Powers & $\\dots$ \\\\\n",
       "\t23 & 9780006498865 & 0006498868 & 0 & The Mad Ship & $\\dots$ \\\\\n",
       "\t24 & 9780006499169 & 0006499163 & 0 & Post Captain & $\\dots$ \\\\\n",
       "\t25 & 9780006499268 & 0006499260 & 0 & The Reverse of the Medal & $\\dots$ \\\\\n",
       "\t26 & 9780006499626 & 0006499627 & 0 & Miss Marple & $\\dots$ \\\\\n",
       "\t27 & 9780006511489 & 0006511481 & 0 & The Years of Rice and Salt & $\\dots$ \\\\\n",
       "\t28 & 9780006512677 & 0006512674 & 0 & Spares & $\\dots$ \\\\\n",
       "\t29 & 9780006513087 & 0006513085 & 0 & Gravity & $\\dots$ \\\\\n",
       "\t30 & 9780006514640 & 0006514642 & 0 & The Wise Woman & $\\dots$ \\\\\n",
       "\t$\\dots$ & $\\dots$ & $\\dots$ & $\\dots$ & $\\dots$ &  \\\\\n",
       "\\end{tabular}\n"
      ],
      "text/plain": [
       "6810×12 DataFrame. Omitted printing of 9 columns\n",
       "│ Row  │ isbn13        │ isbn10     │ cat_id │\n",
       "│      │ \u001b[90mInt64\u001b[39m         │ \u001b[90mString\u001b[39m     │ \u001b[90mInt64\u001b[39m  │\n",
       "├──────┼───────────────┼────────────┼────────┤\n",
       "│ 1    │ 9780002005883 │ 0002005883 │ 0      │\n",
       "│ 2    │ 9780002261982 │ 0002261987 │ 0      │\n",
       "│ 3    │ 9780006163831 │ 0006163831 │ 0      │\n",
       "│ 4    │ 9780006178736 │ 0006178731 │ 0      │\n",
       "│ 5    │ 9780006280897 │ 0006280897 │ 0      │\n",
       "│ 6    │ 9780006280934 │ 0006280935 │ 0      │\n",
       "│ 7    │ 9780006353287 │ 0006353282 │ 0      │\n",
       "│ 8    │ 9780006380832 │ 0006380832 │ 0      │\n",
       "│ 9    │ 9780006470229 │ 000647022X │ 0      │\n",
       "│ 10   │ 9780006472612 │ 0006472613 │ 0      │\n",
       "⋮\n",
       "│ 6800 │ 9788122200850 │ 8122200850 │ 0      │\n",
       "│ 6801 │ 9788125026600 │ 8125026606 │ 0      │\n",
       "│ 6802 │ 9788171565641 │ 8171565646 │ 0      │\n",
       "│ 6803 │ 9788172235222 │ 8172235224 │ 0      │\n",
       "│ 6804 │ 9788173031014 │ 8173031010 │ 0      │\n",
       "│ 6805 │ 9788179921623 │ 817992162X │ 0      │\n",
       "│ 6806 │ 9788185300535 │ 8185300534 │ 0      │\n",
       "│ 6807 │ 9788185944609 │ 8185944601 │ 0      │\n",
       "│ 6808 │ 9788445074879 │ 8445074873 │ 0      │\n",
       "│ 6809 │ 9789027712059 │ 9027712050 │ 0      │\n",
       "│ 6810 │ 9789042003408 │ 9042003405 │ 0      │"
      ]
     },
     "execution_count": 23,
     "metadata": {},
     "output_type": "execute_result"
    }
   ],
   "source": [
    "books.cat_id= convert(Array{Int64,1},books.cat_id)\n",
    "books"
   ]
  },
  {
   "cell_type": "code",
   "execution_count": 24,
   "metadata": {},
   "outputs": [],
   "source": [
    "for i in 1:nrow(books)\n",
    "    if ismissing(books[:categories][i])\n",
    "        continue\n",
    "    end\n",
    "    for x in 1:length(final_category_keys)\n",
    "        #println(x,\" \",books[:categories][i],\" \",final_category_keys[x])\n",
    "        if books[:categories][i] == final_category_keys[x]\n",
    "            books[:cat_id][i]=x\n",
    "            break\n",
    "        end\n",
    "    end\n",
    "end"
   ]
  },
  {
   "cell_type": "code",
   "execution_count": 25,
   "metadata": {},
   "outputs": [
    {
     "data": {
      "text/plain": [
       "5"
      ]
     },
     "execution_count": 25,
     "metadata": {},
     "output_type": "execute_result"
    }
   ],
   "source": [
    "books[:cat_id][1234]"
   ]
  },
  {
   "cell_type": "code",
   "execution_count": 26,
   "metadata": {},
   "outputs": [
    {
     "data": {
      "text/plain": [
       "\"Literary Criticism\""
      ]
     },
     "execution_count": 26,
     "metadata": {},
     "output_type": "execute_result"
    }
   ],
   "source": [
    "books[:categories][1234]"
   ]
  },
  {
   "cell_type": "code",
   "execution_count": 27,
   "metadata": {},
   "outputs": [
    {
     "data": {
      "text/plain": [
       "\"cat_ids\""
      ]
     },
     "execution_count": 27,
     "metadata": {},
     "output_type": "execute_result"
    }
   ],
   "source": [
    "CSV.write(\"cat_ids\",books)"
   ]
  },
  {
   "cell_type": "code",
   "execution_count": 28,
   "metadata": {
    "scrolled": true
   },
   "outputs": [
    {
     "data": {
      "text/html": [
       "<table class=\"data-frame\"><thead><tr><th></th><th>ISBN</th><th>cat_id</th><th>title</th><th>category</th><th>Rating</th></tr><tr><th></th><th>String</th><th>Int64</th><th>String</th><th>String</th><th>Float64</th></tr></thead><tbody><p>0 rows × 5 columns</p></tbody></table>"
      ],
      "text/latex": [
       "\\begin{tabular}{r|ccccc}\n",
       "\t& ISBN & cat\\_id & title & category & Rating\\\\\n",
       "\t\\hline\n",
       "\t& String & Int64 & String & String & Float64\\\\\n",
       "\t\\hline\n",
       "\\end{tabular}\n"
      ],
      "text/plain": [
       "0×5 DataFrame\n"
      ]
     },
     "execution_count": 28,
     "metadata": {},
     "output_type": "execute_result"
    }
   ],
   "source": [
    "selected_categories=DataFrame(ISBN=String[],cat_id=Int[],title=String[],category=String[],Rating=Float64[])"
   ]
  },
  {
   "cell_type": "code",
   "execution_count": 29,
   "metadata": {},
   "outputs": [],
   "source": [
    "for row in eachrow(books)\n",
    "    if ismissing(row[:categories])\n",
    "        continue\n",
    "    end\n",
    "    if row[:categories] in final_category_keys\n",
    "        push!(selected_categories,convert(Array,row[[:isbn10,:cat_id,:title,:categories,:average_rating]]))\n",
    "        \n",
    "    end\n",
    "        \n",
    "end"
   ]
  },
  {
   "cell_type": "code",
   "execution_count": 30,
   "metadata": {},
   "outputs": [
    {
     "data": {
      "text/plain": [
       "\"selected_categories\""
      ]
     },
     "execution_count": 30,
     "metadata": {},
     "output_type": "execute_result"
    }
   ],
   "source": [
    "CSV.write(\"selected_categories\",selected_categories)"
   ]
  },
  {
   "cell_type": "code",
   "execution_count": 31,
   "metadata": {},
   "outputs": [
    {
     "data": {
      "text/html": [
       "<table class=\"data-frame\"><thead><tr><th></th><th>ISBN</th><th>cat_id</th><th>title</th><th>category</th></tr><tr><th></th><th>String</th><th>Int64</th><th>String</th><th>String</th></tr></thead><tbody><p>4,661 rows × 5 columns (omitted printing of 1 columns)</p><tr><th>1</th><td>0002005883</td><td>1</td><td>Gilead</td><td>Fiction</td></tr><tr><th>2</th><td>0006178731</td><td>1</td><td>Rage of angels</td><td>Fiction</td></tr><tr><th>3</th><td>0006482074</td><td>1</td><td>Warhost of Vastmark</td><td>Fiction</td></tr><tr><th>4</th><td>000664600X</td><td>2</td><td>Ocean Star Express</td><td>Juvenile Fiction</td></tr><tr><th>5</th><td>000690601X</td><td>2</td><td>The Princess of the Chalet School</td><td>Juvenile Fiction</td></tr><tr><th>6</th><td>0007121016</td><td>1</td><td>Taken at the Flood</td><td>Fiction</td></tr><tr><th>7</th><td>000712774X</td><td>1</td><td>The illustrated man</td><td>Fiction</td></tr><tr><th>8</th><td>0007149824</td><td>1</td><td>The Yiddish Policemen's Union</td><td>Fiction</td></tr><tr><th>9</th><td>000715805X</td><td>3</td><td>The Real Trial of Oscar Wilde</td><td>Biography &amp; Autobiography</td></tr><tr><th>10</th><td>0007173024</td><td>1</td><td>The Silmarillion</td><td>Fiction</td></tr><tr><th>11</th><td>0007204469</td><td>1</td><td>Tropic of Cancer</td><td>Fiction</td></tr><tr><th>12</th><td>0020199856</td><td>1</td><td>The Love of the Last Tycoon</td><td>Fiction</td></tr><tr><th>13</th><td>0020264739</td><td>1</td><td>The Song of Rhiannon</td><td>Fiction</td></tr><tr><th>14</th><td>0020360754</td><td>1</td><td>Heart Songs and Other Stories</td><td>Fiction</td></tr><tr><th>15</th><td>0020442602</td><td>2</td><td>The voyage of the Dawn Treader</td><td>Juvenile Fiction</td></tr><tr><th>16</th><td>0020518609</td><td>1</td><td>The Short Stories of Ernest Hemingway</td><td>Fiction</td></tr><tr><th>17</th><td>0023513209</td><td>6</td><td>Reason in History</td><td>Philosophy</td></tr><tr><th>18</th><td>002426640X</td><td>6</td><td>The Presocratics</td><td>Philosophy</td></tr><tr><th>19</th><td>0026995018</td><td>4</td><td>Spandau</td><td>History</td></tr><tr><th>20</th><td>0029131693</td><td>4</td><td>Tyranny of the Majority</td><td>History</td></tr><tr><th>21</th><td>0029221307</td><td>4</td><td>The Origins of the Civil Rights Movement</td><td>History</td></tr><tr><th>22</th><td>0029227968</td><td>4</td><td>Presidential Power and the Modern Presidents</td><td>History</td></tr><tr><th>23</th><td>0030420563</td><td>2</td><td>Rest, Rabbit, Rest</td><td>Juvenile Fiction</td></tr><tr><th>24</th><td>0030547741</td><td>2</td><td>Where the Red Fern Grows</td><td>Juvenile Fiction</td></tr><tr><th>25</th><td>0060000147</td><td>2</td><td>Poppy's Return</td><td>Juvenile Fiction</td></tr><tr><th>26</th><td>0060001534</td><td>2</td><td>Diary of a Spider</td><td>Juvenile Fiction</td></tr><tr><th>27</th><td>0060004509</td><td>2</td><td>An Old-Fashioned Thanksgiving</td><td>Juvenile Fiction</td></tr><tr><th>28</th><td>006000942X</td><td>5</td><td>How to Read Literature Like a Professor</td><td>Literary Criticism</td></tr><tr><th>29</th><td>006001234X</td><td>2</td><td>The Amazing Maurice and His Educated Rodents</td><td>Juvenile Fiction</td></tr><tr><th>30</th><td>0060012382</td><td>2</td><td>The Wee Free Men</td><td>Juvenile Fiction</td></tr><tr><th>&vellip;</th><td>&vellip;</td><td>&vellip;</td><td>&vellip;</td><td>&vellip;</td></tr></tbody></table>"
      ],
      "text/latex": [
       "\\begin{tabular}{r|ccccc}\n",
       "\t& ISBN & cat\\_id & title & category & \\\\\n",
       "\t\\hline\n",
       "\t& String & Int64 & String & String & \\\\\n",
       "\t\\hline\n",
       "\t1 & 0002005883 & 1 & Gilead & Fiction & $\\dots$ \\\\\n",
       "\t2 & 0006178731 & 1 & Rage of angels & Fiction & $\\dots$ \\\\\n",
       "\t3 & 0006482074 & 1 & Warhost of Vastmark & Fiction & $\\dots$ \\\\\n",
       "\t4 & 000664600X & 2 & Ocean Star Express & Juvenile Fiction & $\\dots$ \\\\\n",
       "\t5 & 000690601X & 2 & The Princess of the Chalet School & Juvenile Fiction & $\\dots$ \\\\\n",
       "\t6 & 0007121016 & 1 & Taken at the Flood & Fiction & $\\dots$ \\\\\n",
       "\t7 & 000712774X & 1 & The illustrated man & Fiction & $\\dots$ \\\\\n",
       "\t8 & 0007149824 & 1 & The Yiddish Policemen's Union & Fiction & $\\dots$ \\\\\n",
       "\t9 & 000715805X & 3 & The Real Trial of Oscar Wilde & Biography \\& Autobiography & $\\dots$ \\\\\n",
       "\t10 & 0007173024 & 1 & The Silmarillion & Fiction & $\\dots$ \\\\\n",
       "\t11 & 0007204469 & 1 & Tropic of Cancer & Fiction & $\\dots$ \\\\\n",
       "\t12 & 0020199856 & 1 & The Love of the Last Tycoon & Fiction & $\\dots$ \\\\\n",
       "\t13 & 0020264739 & 1 & The Song of Rhiannon & Fiction & $\\dots$ \\\\\n",
       "\t14 & 0020360754 & 1 & Heart Songs and Other Stories & Fiction & $\\dots$ \\\\\n",
       "\t15 & 0020442602 & 2 & The voyage of the Dawn Treader & Juvenile Fiction & $\\dots$ \\\\\n",
       "\t16 & 0020518609 & 1 & The Short Stories of Ernest Hemingway & Fiction & $\\dots$ \\\\\n",
       "\t17 & 0023513209 & 6 & Reason in History & Philosophy & $\\dots$ \\\\\n",
       "\t18 & 002426640X & 6 & The Presocratics & Philosophy & $\\dots$ \\\\\n",
       "\t19 & 0026995018 & 4 & Spandau & History & $\\dots$ \\\\\n",
       "\t20 & 0029131693 & 4 & Tyranny of the Majority & History & $\\dots$ \\\\\n",
       "\t21 & 0029221307 & 4 & The Origins of the Civil Rights Movement & History & $\\dots$ \\\\\n",
       "\t22 & 0029227968 & 4 & Presidential Power and the Modern Presidents & History & $\\dots$ \\\\\n",
       "\t23 & 0030420563 & 2 & Rest, Rabbit, Rest & Juvenile Fiction & $\\dots$ \\\\\n",
       "\t24 & 0030547741 & 2 & Where the Red Fern Grows & Juvenile Fiction & $\\dots$ \\\\\n",
       "\t25 & 0060000147 & 2 & Poppy's Return & Juvenile Fiction & $\\dots$ \\\\\n",
       "\t26 & 0060001534 & 2 & Diary of a Spider & Juvenile Fiction & $\\dots$ \\\\\n",
       "\t27 & 0060004509 & 2 & An Old-Fashioned Thanksgiving & Juvenile Fiction & $\\dots$ \\\\\n",
       "\t28 & 006000942X & 5 & How to Read Literature Like a Professor & Literary Criticism & $\\dots$ \\\\\n",
       "\t29 & 006001234X & 2 & The Amazing Maurice and His Educated Rodents & Juvenile Fiction & $\\dots$ \\\\\n",
       "\t30 & 0060012382 & 2 & The Wee Free Men & Juvenile Fiction & $\\dots$ \\\\\n",
       "\t$\\dots$ & $\\dots$ & $\\dots$ & $\\dots$ & $\\dots$ &  \\\\\n",
       "\\end{tabular}\n"
      ],
      "text/plain": [
       "4661×5 DataFrame. Omitted printing of 2 columns\n",
       "│ Row  │ ISBN       │ cat_id │ title                             │\n",
       "│      │ \u001b[90mString\u001b[39m     │ \u001b[90mInt64\u001b[39m  │ \u001b[90mString\u001b[39m                            │\n",
       "├──────┼────────────┼────────┼───────────────────────────────────┤\n",
       "│ 1    │ 0002005883 │ 1      │ Gilead                            │\n",
       "│ 2    │ 0006178731 │ 1      │ Rage of angels                    │\n",
       "│ 3    │ 0006482074 │ 1      │ Warhost of Vastmark               │\n",
       "│ 4    │ 000664600X │ 2      │ Ocean Star Express                │\n",
       "│ 5    │ 000690601X │ 2      │ The Princess of the Chalet School │\n",
       "│ 6    │ 0007121016 │ 1      │ Taken at the Flood                │\n",
       "│ 7    │ 000712774X │ 1      │ The illustrated man               │\n",
       "│ 8    │ 0007149824 │ 1      │ The Yiddish Policemen's Union     │\n",
       "│ 9    │ 000715805X │ 3      │ The Real Trial of Oscar Wilde     │\n",
       "│ 10   │ 0007173024 │ 1      │ The Silmarillion                  │\n",
       "⋮\n",
       "│ 4651 │ 1933372192 │ 1      │ Amazing Disgrace                  │\n",
       "│ 4652 │ 1933618086 │ 1      │ Falling Angel                     │\n",
       "│ 4653 │ 1933648279 │ 1      │ Night Has a Thousand Eyes         │\n",
       "│ 4654 │ 3791329286 │ 10     │ Joseph Cornell                    │\n",
       "│ 4655 │ 4770028016 │ 6      │ 五輪書 : 英文版                   │\n",
       "│ 4656 │ 4770028962 │ 1      │ Coin Locker Babies                │\n",
       "│ 4657 │ 7506435675 │ 2      │ Good Fight                        │\n",
       "│ 4658 │ 8122200850 │ 1      │ Cry, the Peacock                  │\n",
       "│ 4659 │ 8185300534 │ 6      │ I Am that                         │\n",
       "│ 4660 │ 9027712050 │ 4      │ The Berlin Phenomenology          │\n",
       "│ 4661 │ 9042003405 │ 5      │ 'I'm Telling You Stories'         │"
      ]
     },
     "execution_count": 31,
     "metadata": {},
     "output_type": "execute_result"
    }
   ],
   "source": [
    "selected_categories"
   ]
  },
  {
   "cell_type": "code",
   "execution_count": 32,
   "metadata": {},
   "outputs": [],
   "source": [
    "using Recommendation"
   ]
  },
  {
   "cell_type": "code",
   "execution_count": 33,
   "metadata": {},
   "outputs": [
    {
     "data": {
      "text/plain": [
       "(Dict{Int64,Int64}(), Dict{String,Int64}())"
      ]
     },
     "execution_count": 33,
     "metadata": {},
     "output_type": "execute_result"
    }
   ],
   "source": [
    "cat_mapping, book_mapping =Dict{Int,Int}(),Dict{String,Int}()"
   ]
  },
  {
   "cell_type": "code",
   "execution_count": 34,
   "metadata": {},
   "outputs": [
    {
     "data": {
      "text/plain": [
       "0"
      ]
     },
     "execution_count": 34,
     "metadata": {},
     "output_type": "execute_result"
    }
   ],
   "source": [
    "cat_counter=0\n",
    "book_counter=0"
   ]
  },
  {
   "cell_type": "code",
   "execution_count": 35,
   "metadata": {},
   "outputs": [
    {
     "data": {
      "text/plain": [
       "Event[]"
      ]
     },
     "execution_count": 35,
     "metadata": {},
     "output_type": "execute_result"
    }
   ],
   "source": [
    "events = Recommendation.Event[]"
   ]
  },
  {
   "cell_type": "code",
   "execution_count": 36,
   "metadata": {},
   "outputs": [],
   "source": [
    "for row in eachrow(selected_categories)\n",
    "    global cat_counter, book_counter\n",
    "    global cat_id, book_id, rating = row[:cat_id],row[:ISBN], row[:Rating] \n",
    "    haskey(cat_mapping, cat_id) || (cat_mapping[cat_id] = (cat_counter += 1)) \n",
    "    haskey(book_mapping, book_id) || (book_mapping[book_id] =(book_counter += 1)) \n",
    "    push!(events, Recommendation.Event(cat_mapping[cat_id],book_mapping[book_id], rating)) \n",
    "end"
   ]
  },
  {
   "cell_type": "code",
   "execution_count": 37,
   "metadata": {},
   "outputs": [
    {
     "data": {
      "text/plain": [
       "4661-element Array{Event,1}:\n",
       " Event(1, 1, 3.85)\n",
       " Event(1, 2, 3.93)\n",
       " Event(1, 3, 4.03)\n",
       " Event(2, 4, 3.5)\n",
       " Event(2, 5, 4.1)\n",
       " Event(1, 6, 3.71)\n",
       " Event(1, 7, 4.14)\n",
       " Event(1, 8, 3.7)\n",
       " Event(3, 9, 4.04)\n",
       " Event(1, 10, 3.91)\n",
       " Event(1, 11, 3.69)\n",
       " Event(1, 12, 3.65)\n",
       " Event(1, 13, 4.02)\n",
       " ⋮\n",
       " Event(1, 4650, 3.7)\n",
       " Event(1, 4651, 3.79)\n",
       " Event(1, 4652, 3.92)\n",
       " Event(1, 4653, 3.77)\n",
       " Event(7, 4654, 4.06)\n",
       " Event(4, 4655, 4.08)\n",
       " Event(1, 4656, 3.75)\n",
       " Event(2, 4657, 0.0)\n",
       " Event(1, 4658, 3.22)\n",
       " Event(4, 4659, 4.51)\n",
       " Event(5, 4660, 0.0)\n",
       " Event(6, 4661, 3.7)"
      ]
     },
     "execution_count": 37,
     "metadata": {},
     "output_type": "execute_result"
    }
   ],
   "source": [
    "events #combination of cat_id,ISBN and Rating"
   ]
  },
  {
   "cell_type": "code",
   "execution_count": 38,
   "metadata": {},
   "outputs": [
    {
     "data": {
      "text/plain": [
       "DataAccessor(Event[Event(1, 1, 3.85), Event(1, 2, 3.93), Event(1, 3, 4.03), Event(2, 4, 3.5), Event(2, 5, 4.1), Event(1, 6, 3.71), Event(1, 7, 4.14), Event(1, 8, 3.7), Event(3, 9, 4.04), Event(1, 10, 3.91)  …  Event(1, 4652, 3.92), Event(1, 4653, 3.77), Event(7, 4654, 4.06), Event(4, 4655, 4.08), Event(1, 4656, 3.75), Event(2, 4657, 0.0), Event(1, 4658, 3.22), Event(4, 4659, 4.51), Event(5, 4660, 0.0), Event(6, 4661, 3.7)], [3.85 3.93 … NaN NaN; NaN NaN … NaN NaN; … ; NaN NaN … NaN NaN; NaN NaN … NaN NaN], Dict{Int64,Any}(), Dict{Int64,Any}())"
      ]
     },
     "execution_count": 38,
     "metadata": {},
     "output_type": "execute_result"
    }
   ],
   "source": [
    "da= DataAccessor(events, cat_counter, book_counter)"
   ]
  },
  {
   "cell_type": "code",
   "execution_count": 39,
   "metadata": {},
   "outputs": [
    {
     "data": {
      "text/plain": [
       "MF(DataAccessor(Event[Event(1, 1, 3.85), Event(1, 2, 3.93), Event(1, 3, 4.03), Event(2, 4, 3.5), Event(2, 5, 4.1), Event(1, 6, 3.71), Event(1, 7, 4.14), Event(1, 8, 3.7), Event(3, 9, 4.04), Event(1, 10, 3.91)  …  Event(1, 4652, 3.92), Event(1, 4653, 3.77), Event(7, 4654, 4.06), Event(4, 4655, 4.08), Event(1, 4656, 3.75), Event(2, 4657, 0.0), Event(1, 4658, 3.22), Event(4, 4659, 4.51), Event(5, 4660, 0.0), Event(6, 4661, 3.7)], [3.85 3.93 … NaN NaN; NaN NaN … NaN NaN; … ; NaN NaN … NaN NaN; NaN NaN … NaN NaN], Dict{Int64,Any}(), Dict{Int64,Any}()), 20, Union{Nothing, Float64}[nothing nothing … nothing nothing; nothing nothing … nothing nothing; … ; nothing nothing … nothing nothing; nothing nothing … nothing nothing], Union{Nothing, Float64}[nothing nothing … nothing nothing; nothing nothing … nothing nothing; … ; nothing nothing … nothing nothing; nothing nothing … nothing nothing])"
      ]
     },
     "execution_count": 39,
     "metadata": {},
     "output_type": "execute_result"
    }
   ],
   "source": [
    "#The Recommendation package uses Stochastic Gradient Descent to perform matrix factorization\n",
    "recommender=Recommendation.MF(da)  #matrix factorisation is performed"
   ]
  },
  {
   "cell_type": "code",
   "execution_count": 40,
   "metadata": {},
   "outputs": [
    {
     "data": {
      "text/plain": [
       "93220-element Array{Float64,1}:\n",
       " 0.11065524386971085\n",
       " 0.112955661790202\n",
       " 0.1158241489825679\n",
       " 0.11067902911293533\n",
       " 0.12965027745994043\n",
       " 0.10663123314099983\n",
       " 0.11898533221225141\n",
       " 0.10634455960759889\n",
       " 0.1312332047299295\n",
       " 0.11237931874354157\n",
       " 0.10604450632808839\n",
       " 0.1049025076264029\n",
       " 0.11554765356265324\n",
       " ⋮\n",
       " 0.10633856456301463\n",
       " 0.10892937961676254\n",
       " 0.11266368804478238\n",
       " 0.10835290899785409\n",
       " 0.15858559991029306\n",
       " 0.15059073419671162\n",
       " 0.10777428809618014\n",
       " 3.4240845257000482e-6\n",
       " 0.09254925720325427\n",
       " 0.1664544343394129\n",
       " 2.968787154480081e-5\n",
       " 0.1381052494786308"
      ]
     },
     "execution_count": 40,
     "metadata": {},
     "output_type": "execute_result"
    }
   ],
   "source": [
    "Recommendation.build!(recommender)"
   ]
  },
  {
   "cell_type": "code",
   "execution_count": 41,
   "metadata": {},
   "outputs": [
    {
     "data": {
      "text/plain": [
       "value_to_key (generic function with 1 method)"
      ]
     },
     "execution_count": 41,
     "metadata": {},
     "output_type": "execute_result"
    }
   ],
   "source": [
    "#book_mapping contains mapping of original id to recommender id\n",
    "#we need to reverswe the key value pair \n",
    "function value_to_key(d)\n",
    "    Dict(value=> key for (key,value) in d)\n",
    "end"
   ]
  },
  {
   "cell_type": "code",
   "execution_count": 42,
   "metadata": {},
   "outputs": [
    {
     "data": {
      "text/plain": [
       "recommend_to_vector (generic function with 1 method)"
      ]
     },
     "execution_count": 42,
     "metadata": {},
     "output_type": "execute_result"
    }
   ],
   "source": [
    "#we are converting recommendations to an array of ISBNs\n",
    "function recommend_to_vector(recommendations)\n",
    "    [value_to_key(book_mapping)[r[1]] for r in recommendations]\n",
    "end"
   ]
  },
  {
   "cell_type": "code",
   "execution_count": 43,
   "metadata": {},
   "outputs": [
    {
     "data": {
      "text/plain": [
       "10-element Array{String,1}:\n",
       " \"0739844326\"\n",
       " \"0851621813\"\n",
       " \"0310249872\"\n",
       " \"0567044718\"\n",
       " \"094180755X\"\n",
       " \"0199267170\"\n",
       " \"0141000589\"\n",
       " \"0740748475\"\n",
       " \"0395754909\"\n",
       " \"0736911685\""
      ]
     },
     "execution_count": 43,
     "metadata": {},
     "output_type": "execute_result"
    }
   ],
   "source": [
    "recommend_to_vector(recommend(recommender,1,10,[1:book_counter...])) #these are the ISBNs of 20 recommended books"
   ]
  },
  {
   "cell_type": "code",
   "execution_count": 44,
   "metadata": {},
   "outputs": [
    {
     "name": "stdout",
     "output_type": "stream",
     "text": [
      "[\"Bill Gates\"] [\"Juvenile Nonfiction\"] [5.0]\n",
      "[\"The Complete Theory Fun Factory\"] [\"Juvenile Nonfiction\"] [5.0]\n",
      "[\"Fanning the Flame\"] [\"Religion\"] [5.0]\n",
      "[\"Colossians and Philemon\"] [\"Religion\"] [5.0]\n",
      "[\"The Little Big Book for God's Children\"] [\"Religion\"] [4.88]\n",
      "[\"William Shakespeare: The Complete Works\"] [\"Drama\"] [4.62]\n",
      "[\"Sammlung\"] [\"Drama\"] [4.59]\n",
      "[\"The Complete Calvin and Hobbes\"] [\"Comics & Graphic Novels\"] [4.82]\n",
      "[\"The Riverside Shakespeare\"] [\"Drama\"] [4.55]\n",
      "[\"A Wife After God's Own Heart Growth and Study Guide\"] [\"Religion\"] [4.75]\n"
     ]
    }
   ],
   "source": [
    "for i in recommend_to_vector(recommend(recommender, 1, 10,[1:book_counter...]))\n",
    "    println(selected_categories[selected_categories.ISBN .== i, :title],\" \",selected_categories[selected_categories.ISBN .== i, :category],\" \",selected_categories[selected_categories.ISBN .== i,:Rating])\n",
    "end"
   ]
  }
 ],
 "metadata": {
  "kernelspec": {
   "display_name": "Julia 1.5.2",
   "language": "julia",
   "name": "julia-1.5"
  },
  "language_info": {
   "file_extension": ".jl",
   "mimetype": "application/julia",
   "name": "julia",
   "version": "1.5.2"
  }
 },
 "nbformat": 4,
 "nbformat_minor": 4
}
